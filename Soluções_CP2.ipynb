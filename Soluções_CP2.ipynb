{
  "nbformat": 4,
  "nbformat_minor": 0,
  "metadata": {
    "colab": {
      "provenance": [],
      "authorship_tag": "ABX9TyNebM/S2+WTyZy5I1mWFLgY",
      "include_colab_link": true
    },
    "kernelspec": {
      "name": "python3",
      "display_name": "Python 3"
    },
    "language_info": {
      "name": "python"
    }
  },
  "cells": [
    {
      "cell_type": "markdown",
      "metadata": {
        "id": "view-in-github",
        "colab_type": "text"
      },
      "source": [
        "<a href=\"https://colab.research.google.com/github/garavellimafe/Solu-es-CP2/blob/main/Solu%C3%A7%C3%B5es_CP2.ipynb\" target=\"_parent\"><img src=\"https://colab.research.google.com/assets/colab-badge.svg\" alt=\"Open In Colab\"/></a>"
      ]
    },
    {
      "cell_type": "markdown",
      "source": [
        "# **Conjunto de Exercícios 1**"
      ],
      "metadata": {
        "id": "JM4W0Z5pfTdC"
      }
    },
    {
      "cell_type": "markdown",
      "source": [
        "### **Parte 1**"
      ],
      "metadata": {
        "id": "4a4pLcpghxxW"
      }
    },
    {
      "cell_type": "code",
      "execution_count": null,
      "metadata": {
        "colab": {
          "base_uri": "https://localhost:8080/"
        },
        "id": "Rp48P0eobmfD",
        "outputId": "12f65a26-4833-44b9-c7fa-c190841404c4"
      },
      "outputs": [
        {
          "output_type": "stream",
          "name": "stdout",
          "text": [
            "                  date  Appliances  lights     T1       RH_1    T2       RH_2  \\\n",
            "0  2016-01-11 17:00:00          60      30  19.89  47.596667  19.2  44.790000   \n",
            "1  2016-01-11 17:10:00          60      30  19.89  46.693333  19.2  44.722500   \n",
            "2  2016-01-11 17:20:00          50      30  19.89  46.300000  19.2  44.626667   \n",
            "3  2016-01-11 17:30:00          50      40  19.89  46.066667  19.2  44.590000   \n",
            "4  2016-01-11 17:40:00          60      40  19.89  46.333333  19.2  44.530000   \n",
            "\n",
            "      T3       RH_3         T4  ...         T9   RH_9     T_out  Press_mm_hg  \\\n",
            "0  19.79  44.730000  19.000000  ...  17.033333  45.53  6.600000        733.5   \n",
            "1  19.79  44.790000  19.000000  ...  17.066667  45.56  6.483333        733.6   \n",
            "2  19.79  44.933333  18.926667  ...  17.000000  45.50  6.366667        733.7   \n",
            "3  19.79  45.000000  18.890000  ...  17.000000  45.40  6.250000        733.8   \n",
            "4  19.79  45.000000  18.890000  ...  17.000000  45.40  6.133333        733.9   \n",
            "\n",
            "   RH_out  Windspeed  Visibility  Tdewpoint        rv1        rv2  \n",
            "0    92.0   7.000000   63.000000        5.3  13.275433  13.275433  \n",
            "1    92.0   6.666667   59.166667        5.2  18.606195  18.606195  \n",
            "2    92.0   6.333333   55.333333        5.1  28.642668  28.642668  \n",
            "3    92.0   6.000000   51.500000        5.0  45.410389  45.410389  \n",
            "4    92.0   5.666667   47.666667        4.9  10.084097  10.084097  \n",
            "\n",
            "[5 rows x 29 columns]\n",
            "Colunas não numéricas: Index(['date'], dtype='object')\n",
            "Valores ausentes restantes:\n",
            " 0\n"
          ]
        }
      ],
      "source": [
        "import pandas as pd\n",
        "\n",
        "# Carregando o dataset\n",
        "df = pd.read_csv('/content/energydata_complete.csv')\n",
        "\n",
        "# Visualizar as primeiras linhas\n",
        "print(df.head())\n",
        "\n",
        "# Verificar colunas não numéricas (como 'date')\n",
        "print(\"Colunas não numéricas:\", df.select_dtypes(exclude=['number']).columns)\n",
        "\n",
        "# Remover a coluna de data (se não for usada como variável)\n",
        "df = df.drop('date', axis=1)\n",
        "\n",
        "# Preencher valores ausentes nas colunas numéricas com a média\n",
        "df.fillna(df.select_dtypes(include=['number']).mean(), inplace=True)\n",
        "\n",
        "# Verificar se ainda há valores ausentes\n",
        "print(\"Valores ausentes restantes:\\n\", df.isnull().sum().sum())\n",
        "\n",
        "\n"
      ]
    },
    {
      "cell_type": "code",
      "source": [
        "# Separar as variáveis\n",
        "X = df.drop(['Appliances'], axis=1)  # Exclui a coluna de consumo de energia (target)\n",
        "y = df['Appliances']  # A coluna que contém o consumo de energia\n"
      ],
      "metadata": {
        "id": "U-5JCx2QgZS7"
      },
      "execution_count": null,
      "outputs": []
    },
    {
      "cell_type": "code",
      "source": [
        "from sklearn.model_selection import train_test_split\n",
        "\n",
        "X_train, X_test, y_train, y_test = train_test_split(X, y, test_size=0.2, random_state=42)\n"
      ],
      "metadata": {
        "id": "s2tHniGMgkaF"
      },
      "execution_count": null,
      "outputs": []
    },
    {
      "cell_type": "code",
      "source": [
        "from sklearn.linear_model import LinearRegression\n",
        "from sklearn.metrics import mean_absolute_error, mean_squared_error, r2_score\n",
        "import numpy as np\n",
        "\n",
        "# Criando e treinando o modelo de regressão linear\n",
        "model = LinearRegression()\n",
        "model.fit(X_train, y_train)\n",
        "\n",
        "# Fazendo previsões no conjunto de teste\n",
        "y_pred = model.predict(X_test)\n",
        "\n",
        "# Avaliando o modelo\n",
        "mae = mean_absolute_error(y_test, y_pred)\n",
        "rmse = np.sqrt(mean_squared_error(y_test, y_pred))  # Corrigido aqui\n",
        "r2 = r2_score(y_test, y_pred)\n",
        "\n",
        "# Exibindo os resultados\n",
        "print(f'MAE: {mae:.2f}')\n",
        "print(f'RMSE: {rmse:.2f}')\n",
        "print(f'R²: {r2:.4f}')\n"
      ],
      "metadata": {
        "colab": {
          "base_uri": "https://localhost:8080/"
        },
        "id": "vcKThjuDgmyv",
        "outputId": "cb7c5575-ed71-4f8b-db21-f8265f6a01c4"
      },
      "execution_count": null,
      "outputs": [
        {
          "output_type": "stream",
          "name": "stdout",
          "text": [
            "MAE: 52.55\n",
            "RMSE: 91.17\n",
            "R²: 0.1693\n"
          ]
        }
      ]
    },
    {
      "cell_type": "code",
      "source": [
        "from sklearn.tree import DecisionTreeRegressor\n",
        "\n",
        "# Criar e treinar o modelo\n",
        "tree_model = DecisionTreeRegressor(random_state=42)\n",
        "tree_model.fit(X_train, y_train)\n",
        "\n",
        "# Previsões\n",
        "y_pred_tree = tree_model.predict(X_test)\n",
        "\n",
        "# Métricas\n",
        "mae_tree = mean_absolute_error(y_test, y_pred_tree)\n",
        "rmse_tree = np.sqrt(mean_squared_error(y_test, y_pred_tree))\n",
        "r2_tree = r2_score(y_test, y_pred_tree)\n",
        "\n",
        "print(f'Árvore de Regressão -> MAE: {mae_tree:.2f}, RMSE: {rmse_tree:.2f}, R²: {r2_tree:.4f}')\n"
      ],
      "metadata": {
        "colab": {
          "base_uri": "https://localhost:8080/"
        },
        "id": "HmdqkYiUhFZW",
        "outputId": "7d2c15ba-1454-4ea4-8c27-2cbe37b919b1"
      },
      "execution_count": null,
      "outputs": [
        {
          "output_type": "stream",
          "name": "stdout",
          "text": [
            "Árvore de Regressão -> MAE: 38.87, RMSE: 90.60, R²: 0.1798\n"
          ]
        }
      ]
    },
    {
      "cell_type": "code",
      "source": [
        "from sklearn.ensemble import RandomForestRegressor\n",
        "\n",
        "# Criar e treinar o modelo\n",
        "rf_model = RandomForestRegressor(random_state=42)\n",
        "rf_model.fit(X_train, y_train)\n",
        "\n",
        "# Previsões\n",
        "y_pred_rf = rf_model.predict(X_test)\n",
        "\n",
        "# Métricas\n",
        "mae_rf = mean_absolute_error(y_test, y_pred_rf)\n",
        "rmse_rf = np.sqrt(mean_squared_error(y_test, y_pred_rf))\n",
        "r2_rf = r2_score(y_test, y_pred_rf)\n",
        "\n",
        "print(f'Random Forest -> MAE: {mae_rf:.2f}, RMSE: {rmse_rf:.2f}, R²: {r2_rf:.4f}')\n"
      ],
      "metadata": {
        "colab": {
          "base_uri": "https://localhost:8080/"
        },
        "id": "utZ3EJ7VhG5B",
        "outputId": "71a80b8e-30a8-4bfe-e7a6-384db4019a50"
      },
      "execution_count": null,
      "outputs": [
        {
          "output_type": "stream",
          "name": "stdout",
          "text": [
            "Random Forest -> MAE: 32.90, RMSE: 68.42, R²: 0.5322\n"
          ]
        }
      ]
    },
    {
      "cell_type": "code",
      "source": [
        "# Comparação dos resultados\n",
        "resultados = pd.DataFrame({\n",
        "    'Modelo': ['Regressão Linear', 'Árvore de Regressão', 'Random Forest'],\n",
        "    'MAE': [mae, mae_tree, mae_rf],\n",
        "    'RMSE': [rmse, rmse_tree, rmse_rf],\n",
        "    'R²': [r2, r2_tree, r2_rf]\n",
        "})\n",
        "\n",
        "print(resultados)\n"
      ],
      "metadata": {
        "colab": {
          "base_uri": "https://localhost:8080/"
        },
        "id": "NPIQ70ZNhLsO",
        "outputId": "9dbc75d0-2e65-4ced-84f7-8c4494875e63"
      },
      "execution_count": null,
      "outputs": [
        {
          "output_type": "stream",
          "name": "stdout",
          "text": [
            "                Modelo        MAE       RMSE        R²\n",
            "0     Regressão Linear  52.547693  91.174826  0.169304\n",
            "1  Árvore de Regressão  38.872561  90.596509  0.179809\n",
            "2        Random Forest  32.900228  68.417501  0.532236\n"
          ]
        }
      ]
    },
    {
      "cell_type": "markdown",
      "source": [
        "### **Conclusão:**"
      ],
      "metadata": {
        "id": "fh5QfTfzhhNY"
      }
    },
    {
      "cell_type": "markdown",
      "source": [
        "Com base nas métricas:\n",
        "\n",
        "MAE (erro médio absoluto) — quanto menor, melhor.\n",
        "\n",
        "RMSE — penaliza erros grandes, também deve ser o menor possível.\n",
        "\n",
        "R² — quanto mais próximo de 1, melhor (indica o quanto o modelo explica a variabilidade dos dados).\n",
        "\n",
        "Você pode então discutir:\n",
        "\n",
        "Qual modelo teve melhor desempenho?\n",
        "\n",
        "Houve overfitting (ex: Árvore com R² muito alto no treino mas baixo no teste)?\n",
        "\n",
        "O Random Forest costuma ser o mais robusto nesse tipo de dado."
      ],
      "metadata": {
        "id": "d0WOmqYWhnCh"
      }
    },
    {
      "cell_type": "markdown",
      "source": [
        "### **Parte 2**"
      ],
      "metadata": {
        "id": "EIbSQYwgh2Gm"
      }
    },
    {
      "cell_type": "code",
      "source": [
        "import pandas as pd\n",
        "from sklearn.model_selection import train_test_split\n",
        "from sklearn.tree import DecisionTreeClassifier\n",
        "from sklearn.neighbors import KNeighborsClassifier\n",
        "from sklearn.linear_model import LogisticRegression\n",
        "from sklearn.metrics import accuracy_score, confusion_matrix, f1_score\n",
        "import seaborn as sns\n",
        "import matplotlib.pyplot as plt\n",
        "\n",
        "# Carregar os dados (faça upload do arquivo no Colab e ajuste o caminho, se necessário)\n",
        "df = pd.read_csv('/content/smart_grid_stability_augmented.csv')\n",
        "\n",
        "# Visualizar as primeiras linhas do dataset\n",
        "print(df.head())\n"
      ],
      "metadata": {
        "colab": {
          "base_uri": "https://localhost:8080/"
        },
        "id": "OKK3EF2th44P",
        "outputId": "28f03425-8f3c-4869-a586-7deabae7424e"
      },
      "execution_count": null,
      "outputs": [
        {
          "output_type": "stream",
          "name": "stdout",
          "text": [
            "       tau1      tau2      tau3      tau4        p1        p2        p3  \\\n",
            "0  2.959060  3.079885  8.381025  9.780754  3.763085 -0.782604 -1.257395   \n",
            "1  9.304097  4.902524  3.047541  1.369357  5.067812 -1.940058 -1.872742   \n",
            "2  8.971707  8.848428  3.046479  1.214518  3.405158 -1.207456 -1.277210   \n",
            "3  0.716415  7.669600  4.486641  2.340563  3.963791 -1.027473 -1.938944   \n",
            "4  3.134112  7.608772  4.943759  9.857573  3.525811 -1.125531 -1.845975   \n",
            "\n",
            "         p4        g1        g2        g3        g4      stab     stabf  \n",
            "0 -1.723086  0.650456  0.859578  0.887445  0.958034  0.055347  unstable  \n",
            "1 -1.255012  0.413441  0.862414  0.562139  0.781760 -0.005957    stable  \n",
            "2 -0.920492  0.163041  0.766689  0.839444  0.109853  0.003471  unstable  \n",
            "3 -0.997374  0.446209  0.976744  0.929381  0.362718  0.028871  unstable  \n",
            "4 -0.554305  0.797110  0.455450  0.656947  0.820923  0.049860  unstable  \n"
          ]
        }
      ]
    },
    {
      "cell_type": "code",
      "source": [
        "# Nome da coluna alvo (mude se for diferente)\n",
        "target_col = 'stabf'\n",
        "\n",
        "# Separar features (X) e target (y)\n",
        "X = df.drop(target_col, axis=1)\n",
        "y = df[target_col]\n",
        "\n",
        "# Dividir em treino e teste (80% treino, 20% teste)\n",
        "X_train, X_test, y_train, y_test = train_test_split(X, y, test_size=0.2, random_state=42)\n",
        "\n",
        "print(f'Tamanho do conjunto de treino: {X_train.shape[0]}')\n",
        "print(f'Tamanho do conjunto de teste: {X_test.shape[0]}')\n"
      ],
      "metadata": {
        "colab": {
          "base_uri": "https://localhost:8080/"
        },
        "id": "WXhnlVHAiT6e",
        "outputId": "c8583918-2891-4243-9020-65f6296ea24d"
      },
      "execution_count": null,
      "outputs": [
        {
          "output_type": "stream",
          "name": "stdout",
          "text": [
            "Tamanho do conjunto de treino: 48000\n",
            "Tamanho do conjunto de teste: 12000\n"
          ]
        }
      ]
    },
    {
      "cell_type": "code",
      "source": [
        "# Inicializar os modelos\n",
        "models = {\n",
        "    'Árvore de Decisão': DecisionTreeClassifier(random_state=42),\n",
        "    'KNN': KNeighborsClassifier(),\n",
        "    'Regressão Logística': LogisticRegression(max_iter=1000)\n",
        "}\n",
        "\n",
        "# Dicionário para armazenar métricas\n",
        "results = {'Modelo': [], 'Acurácia': [], 'F1-Score': []}\n",
        "\n",
        "# Loop para treinar, prever e avaliar cada modelo\n",
        "for name, model in models.items():\n",
        "    # Treinar modelo\n",
        "    model.fit(X_train, y_train)\n",
        "\n",
        "    # Fazer previsões no conjunto de teste\n",
        "    y_pred = model.predict(X_test)\n",
        "\n",
        "    # Calcular métricas\n",
        "    acc = accuracy_score(y_test, y_pred)\n",
        "\n",
        "    # Calcular F1-score (tenta usar 'stable' como classe positiva, senão calcula normalmente)\n",
        "    try:\n",
        "        f1 = f1_score(y_test, y_pred, pos_label='stable')\n",
        "    except:\n",
        "        f1 = f1_score(y_test, y_pred)\n",
        "\n",
        "    # Armazenar resultados\n",
        "    results['Modelo'].append(name)\n",
        "    results['Acurácia'].append(acc)\n",
        "    results['F1-Score'].append(f1)\n",
        "\n",
        "    # Plotar matriz de confusão\n",
        "    labels = sorted(y.unique())\n",
        "    cm = confusion_matrix(y_test, y_pred, labels=labels)\n",
        "    print(f'\\nMatriz de Confusão - {name}:')\n",
        "    sns.heatmap(cm, annot=True, fmt='d', xticklabels=labels, yticklabels=labels)\n",
        "    plt.xlabel('Predito')\n",
        "    plt.ylabel('Real')\n",
        "    plt.title(f'Matriz de Confusão - {name}')\n",
        "    plt.show()\n"
      ],
      "metadata": {
        "colab": {
          "base_uri": "https://localhost:8080/",
          "height": 1000
        },
        "id": "SM8g8u_EiV3W",
        "outputId": "cbcde6d9-dd0e-4c65-c527-193593dd83f2"
      },
      "execution_count": null,
      "outputs": [
        {
          "output_type": "stream",
          "name": "stdout",
          "text": [
            "\n",
            "Matriz de Confusão - Árvore de Decisão:\n"
          ]
        },
        {
          "output_type": "display_data",
          "data": {
            "text/plain": [
              "<Figure size 640x480 with 2 Axes>"
            ],
            "image/png": "[encoded data removed]"
          },
          "metadata": {}
        },
        {
          "output_type": "stream",
          "name": "stdout",
          "text": [
            "\n",
            "Matriz de Confusão - KNN:\n"
          ]
        },
        {
          "output_type": "display_data",
          "data": {
            "text/plain": [
              "<Figure size 640x480 with 2 Axes>"
            ],
            "image/png": "[encoded data removed]"
          },
          "metadata": {}
        },
        {
          "output_type": "stream",
          "name": "stdout",
          "text": [
            "\n",
            "Matriz de Confusão - Regressão Logística:\n"
          ]
        },
        {
          "output_type": "display_data",
          "data": {
            "text/plain": [
              "<Figure size 640x480 with 2 Axes>"
            ],
            "image/png": "[encoded data removed]"
          },
          "metadata": {}
        }
      ]
    },
    {
      "cell_type": "code",
      "source": [
        "# Mostrar os resultados em formato de tabela\n",
        "results_df = pd.DataFrame(results)\n",
        "print(results_df)\n"
      ],
      "metadata": {
        "colab": {
          "base_uri": "https://localhost:8080/"
        },
        "id": "qzrrwN7jiZMe",
        "outputId": "43a4afd3-9892-4f57-c8fe-fa9e1f360ff7"
      },
      "execution_count": null,
      "outputs": [
        {
          "output_type": "stream",
          "name": "stdout",
          "text": [
            "                Modelo  Acurácia  F1-Score\n",
            "0    Árvore de Decisão  1.000000  1.000000\n",
            "1                  KNN  0.825417  0.746521\n",
            "2  Regressão Logística  0.965250  0.951641\n"
          ]
        }
      ]
    },
    {
      "cell_type": "markdown",
      "source": [
        "# **Conjunto de exercícios 2**"
      ],
      "metadata": {
        "id": "dlBqCMSyib7P"
      }
    },
    {
      "cell_type": "markdown",
      "source": [
        "### **Parte 1**"
      ],
      "metadata": {
        "id": "Y3pTDQpRjhdF"
      }
    },
    {
      "cell_type": "code",
      "source": [
        "import pandas as pd\n",
        "from sklearn.model_selection import train_test_split\n",
        "from sklearn.preprocessing import StandardScaler\n",
        "from sklearn.tree import DecisionTreeClassifier\n",
        "from sklearn.ensemble import RandomForestClassifier\n",
        "from sklearn.svm import SVC\n",
        "from sklearn.metrics import accuracy_score, confusion_matrix\n",
        "import seaborn as sns\n",
        "import matplotlib.pyplot as plt\n",
        "\n",
        "# Carregar dados\n",
        "df = pd.read_csv('/content/SolarPrediction.csv')\n",
        "\n",
        "# Mostrar primeiras linhas\n",
        "print(df.head())\n"
      ],
      "metadata": {
        "colab": {
          "base_uri": "https://localhost:8080/"
        },
        "id": "7XF86Ny-jkR1",
        "outputId": "10a16e6a-ef42-4bf5-e0ed-a25027cb54e7"
      },
      "execution_count": null,
      "outputs": [
        {
          "output_type": "stream",
          "name": "stdout",
          "text": [
            "     UNIXTime                   Data      Time  Radiation  Temperature  \\\n",
            "0  1475229326  9/29/2016 12:00:00 AM  23:55:26       1.21           48   \n",
            "1  1475229023  9/29/2016 12:00:00 AM  23:50:23       1.21           48   \n",
            "2  1475228726  9/29/2016 12:00:00 AM  23:45:26       1.23           48   \n",
            "3  1475228421  9/29/2016 12:00:00 AM  23:40:21       1.21           48   \n",
            "4  1475228124  9/29/2016 12:00:00 AM  23:35:24       1.17           48   \n",
            "\n",
            "   Pressure  Humidity  WindDirection(Degrees)  Speed TimeSunRise TimeSunSet  \n",
            "0     30.46        59                  177.39   5.62    06:13:00   18:13:00  \n",
            "1     30.46        58                  176.78   3.37    06:13:00   18:13:00  \n",
            "2     30.46        57                  158.75   3.37    06:13:00   18:13:00  \n",
            "3     30.46        60                  137.71   3.37    06:13:00   18:13:00  \n",
            "4     30.46        62                  104.95   5.62    06:13:00   18:13:00  \n"
          ]
        }
      ]
    },
    {
      "cell_type": "code",
      "source": [
        "# Converter coluna de data/hora para datetime (se existir, senão ignore)\n",
        "if 'UNIXTime' in df.columns:\n",
        "    df['Date'] = pd.to_datetime(df['UNIXTime'], unit='s')\n",
        "elif 'Data' in df.columns:\n",
        "    df['Date'] = pd.to_datetime(df['Data'], errors='coerce')\n",
        "\n",
        "# Criar variável-alvo binária:\n",
        "# 'Alta Radiação' se a radiação solar for maior que a mediana, 'Baixa Radiação' caso contrário\n",
        "mediana = df['Radiation'].median()\n",
        "df['Radiation_Level'] = df['Radiation'].apply(lambda x: 'Alta' if x > mediana else 'Baixa')\n",
        "\n",
        "# Selecionar colunas de atributos (excluindo colunas não numéricas e target)\n",
        "X = df.select_dtypes(include=['float64', 'int64']).drop(['Radiation'], axis=1)\n",
        "y = df['Radiation_Level']\n",
        "\n",
        "# Dividir em treino e teste (70% treino, 30% teste)\n",
        "X_train, X_test, y_train, y_test = train_test_split(X, y, test_size=0.3, random_state=42)\n",
        "\n",
        "# Normalizar atributos contínuos\n",
        "scaler = StandardScaler()\n",
        "X_train = scaler.fit_transform(X_train)\n",
        "X_test = scaler.transform(X_test)\n"
      ],
      "metadata": {
        "id": "mPPFuhB9jlqm"
      },
      "execution_count": null,
      "outputs": []
    },
    {
      "cell_type": "code",
      "source": [
        "# Inicializar os modelos\n",
        "models = {\n",
        "    'Árvore de Decisão': DecisionTreeClassifier(random_state=42),\n",
        "    'Random Forest': RandomForestClassifier(random_state=42),\n",
        "    'SVM': SVC(random_state=42)\n",
        "}\n",
        "\n",
        "results = {'Modelo': [], 'Acurácia': []}\n",
        "\n",
        "for name, model in models.items():\n",
        "    # Treinar\n",
        "    model.fit(X_train, y_train)\n",
        "\n",
        "    # Prever\n",
        "    y_pred = model.predict(X_test)\n",
        "\n",
        "    # Avaliar\n",
        "    acc = accuracy_score(y_test, y_pred)\n",
        "    results['Modelo'].append(name)\n",
        "    results['Acurácia'].append(acc)\n",
        "\n",
        "    # Matriz de confusão\n",
        "    cm = confusion_matrix(y_test, y_pred, labels=['Alta', 'Baixa'])\n",
        "    print(f'\\nMatriz de Confusão - {name}:')\n",
        "    sns.heatmap(cm, annot=True, fmt='d', xticklabels=['Alta', 'Baixa'], yticklabels=['Alta', 'Baixa'])\n",
        "    plt.xlabel('Predito')\n",
        "    plt.ylabel('Real')\n",
        "    plt.title(f'Matriz de Confusão - {name}')\n",
        "    plt.show()\n",
        "\n",
        "# Mostrar tabela comparativa\n",
        "results_df = pd.DataFrame(results)\n",
        "print(results_df)\n"
      ],
      "metadata": {
        "colab": {
          "base_uri": "https://localhost:8080/",
          "height": 1000
        },
        "id": "UiNhcgHxjnjG",
        "outputId": "0ae50516-b91c-44af-a28f-20b7b0a84aee"
      },
      "execution_count": null,
      "outputs": [
        {
          "output_type": "stream",
          "name": "stdout",
          "text": [
            "\n",
            "Matriz de Confusão - Árvore de Decisão:\n"
          ]
        },
        {
          "output_type": "display_data",
          "data": {
            "text/plain": [
              "<Figure size 640x480 with 2 Axes>"
            ],
            "image/png": "[encoded data removed]"
          },
          "metadata": {}
        },
        {
          "output_type": "stream",
          "name": "stdout",
          "text": [
            "\n",
            "Matriz de Confusão - Random Forest:\n"
          ]
        },
        {
          "output_type": "display_data",
          "data": {
            "text/plain": [
              "<Figure size 640x480 with 2 Axes>"
            ],
            "image/png": "[encoded data removed]"
          },
          "metadata": {}
        },
        {
          "output_type": "stream",
          "name": "stdout",
          "text": [
            "\n",
            "Matriz de Confusão - SVM:\n"
          ]
        },
        {
          "output_type": "display_data",
          "data": {
            "text/plain": [
              "<Figure size 640x480 with 2 Axes>"
            ],
            "image/png": "[encoded data removed]"
          },
          "metadata": {}
        },
        {
          "output_type": "stream",
          "name": "stdout",
          "text": [
            "              Modelo  Acurácia\n",
            "0  Árvore de Decisão  0.943606\n",
            "1      Random Forest  0.949623\n",
            "2                SVM  0.845197\n"
          ]
        }
      ]
    },
    {
      "cell_type": "markdown",
      "source": [
        "### **Parte 2**"
      ],
      "metadata": {
        "id": "LpJSizjWj5V3"
      }
    },
    {
      "cell_type": "code",
      "source": [
        "# Importar bibliotecas\n",
        "import pandas as pd\n",
        "import numpy as np\n",
        "from sklearn.model_selection import train_test_split\n",
        "from sklearn.preprocessing import StandardScaler\n",
        "from sklearn.linear_model import LinearRegression\n",
        "from sklearn.tree import DecisionTreeRegressor\n",
        "from sklearn.ensemble import RandomForestRegressor\n",
        "from sklearn.metrics import mean_squared_error, r2_score\n",
        "import matplotlib.pyplot as plt"
      ],
      "metadata": {
        "id": "pQNbVm_rkFaQ"
      },
      "execution_count": null,
      "outputs": []
    },
    {
      "cell_type": "code",
      "source": [
        "# Ler o arquivo CSV (certifique-se de que T1.csv está no mesmo diretório)\n",
        "df = pd.read_csv(\"T1.csv\")\n",
        "\n",
        "# Exibir prévia dos dados\n",
        "print(\"Prévia dos dados:\")\n",
        "display(df.head())\n",
        "\n",
        "# Mostrar informações gerais (nomes das colunas, tipos, valores nulos)\n",
        "print(\"\\nInformações do dataset:\")\n",
        "print(df.info())\n"
      ],
      "metadata": {
        "colab": {
          "base_uri": "https://localhost:8080/",
          "height": 596
        },
        "id": "tQwWo3FWnksl",
        "outputId": "2a9ea72c-68a6-46fd-98f2-ac79ea9b1b81"
      },
      "execution_count": null,
      "outputs": [
        {
          "output_type": "stream",
          "name": "stdout",
          "text": [
            "Prévia dos dados:\n"
          ]
        },
        {
          "output_type": "display_data",
          "data": {
            "text/plain": [
              "          Date/Time  LV ActivePower (kW)  Wind Speed (m/s)  \\\n",
              "0  01 01 2018 00:00           380.047791          5.311336   \n",
              "1  01 01 2018 00:10           453.769196          5.672167   \n",
              "2  01 01 2018 00:20           306.376587          5.216037   \n",
              "3  01 01 2018 00:30           419.645905          5.659674   \n",
              "4  01 01 2018 00:40           380.650696          5.577941   \n",
              "\n",
              "   Theoretical_Power_Curve (KWh)  Wind Direction (°)  \n",
              "0                     416.328908          259.994904  \n",
              "1                     519.917511          268.641113  \n",
              "2                     390.900016          272.564789  \n",
              "3                     516.127569          271.258087  \n",
              "4                     491.702972          265.674286  "
            ],
            "text/html": [
              "\n",
              "  <div id=\"df-fe206dc3-7117-4e18-99bd-e9624965daa9\" class=\"colab-df-container\">\n",
              "    <div>\n",
              "<style scoped>\n",
              "    .dataframe tbody tr th:only-of-type {\n",
              "        vertical-align: middle;\n",
              "    }\n",
              "\n",
              "    .dataframe tbody tr th {\n",
              "        vertical-align: top;\n",
              "    }\n",
              "\n",
              "    .dataframe thead th {\n",
              "        text-align: right;\n",
              "    }\n",
              "</style>\n",
              "<table border=\"1\" class=\"dataframe\">\n",
              "  <thead>\n",
              "    <tr style=\"text-align: right;\">\n",
              "      <th></th>\n",
              "      <th>Date/Time</th>\n",
              "      <th>LV ActivePower (kW)</th>\n",
              "      <th>Wind Speed (m/s)</th>\n",
              "      <th>Theoretical_Power_Curve (KWh)</th>\n",
              "      <th>Wind Direction (°)</th>\n",
              "    </tr>\n",
              "  </thead>\n",
              "  <tbody>\n",
              "    <tr>\n",
              "      <th>0</th>\n",
              "      <td>01 01 2018 00:00</td>\n",
              "      <td>380.047791</td>\n",
              "      <td>5.311336</td>\n",
              "      <td>416.328908</td>\n",
              "      <td>259.994904</td>\n",
              "    </tr>\n",
              "    <tr>\n",
              "      <th>1</th>\n",
              "      <td>01 01 2018 00:10</td>\n",
              "      <td>453.769196</td>\n",
              "      <td>5.672167</td>\n",
              "      <td>519.917511</td>\n",
              "      <td>268.641113</td>\n",
              "    </tr>\n",
              "    <tr>\n",
              "      <th>2</th>\n",
              "      <td>01 01 2018 00:20</td>\n",
              "      <td>306.376587</td>\n",
              "      <td>5.216037</td>\n",
              "      <td>390.900016</td>\n",
              "      <td>272.564789</td>\n",
              "    </tr>\n",
              "    <tr>\n",
              "      <th>3</th>\n",
              "      <td>01 01 2018 00:30</td>\n",
              "      <td>419.645905</td>\n",
              "      <td>5.659674</td>\n",
              "      <td>516.127569</td>\n",
              "      <td>271.258087</td>\n",
              "    </tr>\n",
              "    <tr>\n",
              "      <th>4</th>\n",
              "      <td>01 01 2018 00:40</td>\n",
              "      <td>380.650696</td>\n",
              "      <td>5.577941</td>\n",
              "      <td>491.702972</td>\n",
              "      <td>265.674286</td>\n",
              "    </tr>\n",
              "  </tbody>\n",
              "</table>\n",
              "</div>\n",
              "    <div class=\"colab-df-buttons\">\n",
              "\n",
              "  <div class=\"colab-df-container\">\n",
              "    <button class=\"colab-df-convert\" onclick=\"convertToInteractive('df-fe206dc3-7117-4e18-99bd-e9624965daa9')\"\n",
              "            title=\"Convert this dataframe to an interactive table.\"\n",
              "            style=\"display:none;\">\n",
              "\n",
              "  <svg xmlns=\"http://www.w3.org/2000/svg\" height=\"24px\" viewBox=\"0 -960 960 960\">\n",
              "    <path d=\"M120-120v-720h720v720H120Zm60-500h600v-160H180v160Zm220 220h160v-160H400v160Zm0 220h160v-160H400v160ZM180-400h160v-160H180v160Zm440 0h160v-160H620v160ZM180-180h160v-160H180v160Zm440 0h160v-160H620v160Z\"/>\n",
              "  </svg>\n",
              "    </button>\n",
              "\n",
              "  <style>\n",
              "    .colab-df-container {\n",
              "      display:flex;\n",
              "      gap: 12px;\n",
              "    }\n",
              "\n",
              "    .colab-df-convert {\n",
              "      background-color: #E8F0FE;\n",
              "      border: none;\n",
              "      border-radius: 50%;\n",
              "      cursor: pointer;\n",
              "      display: none;\n",
              "      fill: #1967D2;\n",
              "      height: 32px;\n",
              "      padding: 0 0 0 0;\n",
              "      width: 32px;\n",
              "    }\n",
              "\n",
              "    .colab-df-convert:hover {\n",
              "      background-color: #E2EBFA;\n",
              "      box-shadow: 0px 1px 2px rgba(60, 64, 67, 0.3), 0px 1px 3px 1px rgba(60, 64, 67, 0.15);\n",
              "      fill: #174EA6;\n",
              "    }\n",
              "\n",
              "    .colab-df-buttons div {\n",
              "      margin-bottom: 4px;\n",
              "    }\n",
              "\n",
              "    [theme=dark] .colab-df-convert {\n",
              "      background-color: #3B4455;\n",
              "      fill: #D2E3FC;\n",
              "    }\n",
              "\n",
              "    [theme=dark] .colab-df-convert:hover {\n",
              "      background-color: #434B5C;\n",
              "      box-shadow: 0px 1px 3px 1px rgba(0, 0, 0, 0.15);\n",
              "      filter: drop-shadow(0px 1px 2px rgba(0, 0, 0, 0.3));\n",
              "      fill: #FFFFFF;\n",
              "    }\n",
              "  </style>\n",
              "\n",
              "    <script>\n",
              "      const buttonEl =\n",
              "        document.querySelector('#df-fe206dc3-7117-4e18-99bd-e9624965daa9 button.colab-df-convert');\n",
              "      buttonEl.style.display =\n",
              "        google.colab.kernel.accessAllowed ? 'block' : 'none';\n",
              "\n",
              "      async function convertToInteractive(key) {\n",
              "        const element = document.querySelector('#df-fe206dc3-7117-4e18-99bd-e9624965daa9');\n",
              "        const dataTable =\n",
              "          await google.colab.kernel.invokeFunction('convertToInteractive',\n",
              "                                                    [key], {});\n",
              "        if (!dataTable) return;\n",
              "\n",
              "        const docLinkHtml = 'Like what you see? Visit the ' +\n",
              "          '<a target=\"_blank\" href=https://colab.research.google.com/notebooks/data_table.ipynb>data table notebook</a>'\n",
              "          + ' to learn more about interactive tables.';\n",
              "        element.innerHTML = '';\n",
              "        dataTable['output_type'] = 'display_data';\n",
              "        await google.colab.output.renderOutput(dataTable, element);\n",
              "        const docLink = document.createElement('div');\n",
              "        docLink.innerHTML = docLinkHtml;\n",
              "        element.appendChild(docLink);\n",
              "      }\n",
              "    </script>\n",
              "  </div>\n",
              "\n",
              "\n",
              "    <div id=\"df-e6424069-5315-4c5b-aad5-4d8ec14ce3a7\">\n",
              "      <button class=\"colab-df-quickchart\" onclick=\"quickchart('df-e6424069-5315-4c5b-aad5-4d8ec14ce3a7')\"\n",
              "                title=\"Suggest charts\"\n",
              "                style=\"display:none;\">\n",
              "\n",
              "<svg xmlns=\"http://www.w3.org/2000/svg\" height=\"24px\"viewBox=\"0 0 24 24\"\n",
              "     width=\"24px\">\n",
              "    <g>\n",
              "        <path d=\"M19 3H5c-1.1 0-2 .9-2 2v14c0 1.1.9 2 2 2h14c1.1 0 2-.9 2-2V5c0-1.1-.9-2-2-2zM9 17H7v-7h2v7zm4 0h-2V7h2v10zm4 0h-2v-4h2v4z\"/>\n",
              "    </g>\n",
              "</svg>\n",
              "      </button>\n",
              "\n",
              "<style>\n",
              "  .colab-df-quickchart {\n",
              "      --bg-color: #E8F0FE;\n",
              "      --fill-color: #1967D2;\n",
              "      --hover-bg-color: #E2EBFA;\n",
              "      --hover-fill-color: #174EA6;\n",
              "      --disabled-fill-color: #AAA;\n",
              "      --disabled-bg-color: #DDD;\n",
              "  }\n",
              "\n",
              "  [theme=dark] .colab-df-quickchart {\n",
              "      --bg-color: #3B4455;\n",
              "      --fill-color: #D2E3FC;\n",
              "      --hover-bg-color: #434B5C;\n",
              "      --hover-fill-color: #FFFFFF;\n",
              "      --disabled-bg-color: #3B4455;\n",
              "      --disabled-fill-color: #666;\n",
              "  }\n",
              "\n",
              "  .colab-df-quickchart {\n",
              "    background-color: var(--bg-color);\n",
              "    border: none;\n",
              "    border-radius: 50%;\n",
              "    cursor: pointer;\n",
              "    display: none;\n",
              "    fill: var(--fill-color);\n",
              "    height: 32px;\n",
              "    padding: 0;\n",
              "    width: 32px;\n",
              "  }\n",
              "\n",
              "  .colab-df-quickchart:hover {\n",
              "    background-color: var(--hover-bg-color);\n",
              "    box-shadow: 0 1px 2px rgba(60, 64, 67, 0.3), 0 1px 3px 1px rgba(60, 64, 67, 0.15);\n",
              "    fill: var(--button-hover-fill-color);\n",
              "  }\n",
              "\n",
              "  .colab-df-quickchart-complete:disabled,\n",
              "  .colab-df-quickchart-complete:disabled:hover {\n",
              "    background-color: var(--disabled-bg-color);\n",
              "    fill: var(--disabled-fill-color);\n",
              "    box-shadow: none;\n",
              "  }\n",
              "\n",
              "  .colab-df-spinner {\n",
              "    border: 2px solid var(--fill-color);\n",
              "    border-color: transparent;\n",
              "    border-bottom-color: var(--fill-color);\n",
              "    animation:\n",
              "      spin 1s steps(1) infinite;\n",
              "  }\n",
              "\n",
              "  @keyframes spin {\n",
              "    0% {\n",
              "      border-color: transparent;\n",
              "      border-bottom-color: var(--fill-color);\n",
              "      border-left-color: var(--fill-color);\n",
              "    }\n",
              "    20% {\n",
              "      border-color: transparent;\n",
              "      border-left-color: var(--fill-color);\n",
              "      border-top-color: var(--fill-color);\n",
              "    }\n",
              "    30% {\n",
              "      border-color: transparent;\n",
              "      border-left-color: var(--fill-color);\n",
              "      border-top-color: var(--fill-color);\n",
              "      border-right-color: var(--fill-color);\n",
              "    }\n",
              "    40% {\n",
              "      border-color: transparent;\n",
              "      border-right-color: var(--fill-color);\n",
              "      border-top-color: var(--fill-color);\n",
              "    }\n",
              "    60% {\n",
              "      border-color: transparent;\n",
              "      border-right-color: var(--fill-color);\n",
              "    }\n",
              "    80% {\n",
              "      border-color: transparent;\n",
              "      border-right-color: var(--fill-color);\n",
              "      border-bottom-color: var(--fill-color);\n",
              "    }\n",
              "    90% {\n",
              "      border-color: transparent;\n",
              "      border-bottom-color: var(--fill-color);\n",
              "    }\n",
              "  }\n",
              "</style>\n",
              "\n",
              "      <script>\n",
              "        async function quickchart(key) {\n",
              "          const quickchartButtonEl =\n",
              "            document.querySelector('#' + key + ' button');\n",
              "          quickchartButtonEl.disabled = true;  // To prevent multiple clicks.\n",
              "          quickchartButtonEl.classList.add('colab-df-spinner');\n",
              "          try {\n",
              "            const charts = await google.colab.kernel.invokeFunction(\n",
              "                'suggestCharts', [key], {});\n",
              "          } catch (error) {\n",
              "            console.error('Error during call to suggestCharts:', error);\n",
              "          }\n",
              "          quickchartButtonEl.classList.remove('colab-df-spinner');\n",
              "          quickchartButtonEl.classList.add('colab-df-quickchart-complete');\n",
              "        }\n",
              "        (() => {\n",
              "          let quickchartButtonEl =\n",
              "            document.querySelector('#df-e6424069-5315-4c5b-aad5-4d8ec14ce3a7 button');\n",
              "          quickchartButtonEl.style.display =\n",
              "            google.colab.kernel.accessAllowed ? 'block' : 'none';\n",
              "        })();\n",
              "      </script>\n",
              "    </div>\n",
              "\n",
              "    </div>\n",
              "  </div>\n"
            ],
            "application/vnd.google.colaboratory.intrinsic+json": {
              "type": "dataframe",
              "summary": "{\n  \"name\": \"print(df\",\n  \"rows\": 5,\n  \"fields\": [\n    {\n      \"column\": \"Date/Time\",\n      \"properties\": {\n        \"dtype\": \"object\",\n        \"num_unique_values\": 5,\n        \"samples\": [\n          \"01 01 2018 00:10\",\n          \"01 01 2018 00:40\",\n          \"01 01 2018 00:20\"\n        ],\n        \"semantic_type\": \"\",\n        \"description\": \"\"\n      }\n    },\n    {\n      \"column\": \"LV ActivePower (kW)\",\n      \"properties\": {\n        \"dtype\": \"number\",\n        \"std\": 55.015074697562035,\n        \"min\": 306.376586914062,\n        \"max\": 453.76919555664,\n        \"num_unique_values\": 5,\n        \"samples\": [\n          453.76919555664,\n          380.650695800781,\n          306.376586914062\n        ],\n        \"semantic_type\": \"\",\n        \"description\": \"\"\n      }\n    },\n    {\n      \"column\": \"Wind Speed (m/s)\",\n      \"properties\": {\n        \"dtype\": \"number\",\n        \"std\": 0.21014954877598035,\n        \"min\": 5.21603679656982,\n        \"max\": 5.67216682434082,\n        \"num_unique_values\": 5,\n        \"samples\": [\n          5.67216682434082,\n          5.57794094085693,\n          5.21603679656982\n        ],\n        \"semantic_type\": \"\",\n        \"description\": \"\"\n      }\n    },\n    {\n      \"column\": \"Theoretical_Power_Curve (KWh)\",\n      \"properties\": {\n        \"dtype\": \"number\",\n        \"std\": 59.54574901601559,\n        \"min\": 390.900015810951,\n        \"max\": 519.917511061494,\n        \"num_unique_values\": 5,\n        \"samples\": [\n          519.917511061494,\n          491.702971953588,\n          390.900015810951\n        ],\n        \"semantic_type\": \"\",\n        \"description\": \"\"\n      }\n    },\n    {\n      \"column\": \"Wind Direction (\\u00b0)\",\n      \"properties\": {\n        \"dtype\": \"number\",\n        \"std\": 5.016397259264836,\n        \"min\": 259.994903564453,\n        \"max\": 272.564788818359,\n        \"num_unique_values\": 5,\n        \"samples\": [\n          268.64111328125,\n          265.674285888671,\n          272.564788818359\n        ],\n        \"semantic_type\": \"\",\n        \"description\": \"\"\n      }\n    }\n  ]\n}"
            }
          },
          "metadata": {}
        },
        {
          "output_type": "stream",
          "name": "stdout",
          "text": [
            "\n",
            "Informações do dataset:\n",
            "<class 'pandas.core.frame.DataFrame'>\n",
            "RangeIndex: 50530 entries, 0 to 50529\n",
            "Data columns (total 5 columns):\n",
            " #   Column                         Non-Null Count  Dtype  \n",
            "---  ------                         --------------  -----  \n",
            " 0   Date/Time                      50530 non-null  object \n",
            " 1   LV ActivePower (kW)            50530 non-null  float64\n",
            " 2   Wind Speed (m/s)               50530 non-null  float64\n",
            " 3   Theoretical_Power_Curve (KWh)  50530 non-null  float64\n",
            " 4   Wind Direction (°)             50530 non-null  float64\n",
            "dtypes: float64(4), object(1)\n",
            "memory usage: 1.9+ MB\n",
            "None\n"
          ]
        }
      ]
    },
    {
      "cell_type": "code",
      "source": [
        "# Remover linhas com valores ausentes\n",
        "df = df.dropna()\n",
        "\n",
        "# Verifique os nomes das colunas:\n",
        "print(\"\\nColunas disponíveis:\")\n",
        "print(df.columns)\n",
        "\n",
        "# ⚠️ Ajuste o nome da variável-alvo conforme o seu dataset\n",
        "# Exemplo (dataset do Kaggle): 'LV ActivePower (kW)'\n",
        "y = df['LV ActivePower (kW)']\n",
        "\n",
        "# X são todas as outras colunas (features)\n",
        "X = df.drop(columns=['LV ActivePower (kW)'])\n"
      ],
      "metadata": {
        "colab": {
          "base_uri": "https://localhost:8080/"
        },
        "id": "7721y0DNnmqR",
        "outputId": "f07ccc61-3308-4dae-cb5f-ffdc72fce768"
      },
      "execution_count": null,
      "outputs": [
        {
          "output_type": "stream",
          "name": "stdout",
          "text": [
            "\n",
            "Colunas disponíveis:\n",
            "Index(['Date/Time', 'LV ActivePower (kW)', 'Wind Speed (m/s)',\n",
            "       'Theoretical_Power_Curve (KWh)', 'Wind Direction (°)'],\n",
            "      dtype='object')\n"
          ]
        }
      ]
    },
    {
      "cell_type": "code",
      "source": [
        "# Separar dados em treino e teste (80% / 20%)\n",
        "X_train, X_test, y_train, y_test = train_test_split(\n",
        "    X, y, test_size=0.2, random_state=42\n",
        ")\n",
        "\n",
        "print(\"Tamanho dos conjuntos:\")\n",
        "print(\"Treino:\", X_train.shape)\n",
        "print(\"Teste:\", X_test.shape)\n"
      ],
      "metadata": {
        "colab": {
          "base_uri": "https://localhost:8080/"
        },
        "id": "XfBam90cnmoj",
        "outputId": "e9220311-5623-4d9b-f412-7c6747e6bf3f"
      },
      "execution_count": null,
      "outputs": [
        {
          "output_type": "stream",
          "name": "stdout",
          "text": [
            "Tamanho dos conjuntos:\n",
            "Treino: (40424, 4)\n",
            "Teste: (10106, 4)\n"
          ]
        }
      ]
    },
    {
      "cell_type": "code",
      "source": [
        "# 🔹 Garantir que só há colunas numéricas antes da normalização\n",
        "X_train = X_train.select_dtypes(include=['int64', 'float64'])\n",
        "X_test = X_test.select_dtypes(include=['int64', 'float64'])\n",
        "\n",
        "# 🔹 Normalizar (padronizar) os dados\n",
        "scaler = StandardScaler()\n",
        "X_train_scaled = scaler.fit_transform(X_train)\n",
        "X_test_scaled = scaler.transform(X_test)\n",
        "\n",
        "# 🔹 Criar dicionário de modelos\n",
        "models = {\n",
        "    'Regressão Linear': LinearRegression(),\n",
        "    'Árvore de Regressão': DecisionTreeRegressor(random_state=42),\n",
        "    'Random Forest': RandomForestRegressor(n_estimators=100, random_state=42)\n",
        "}\n",
        "\n",
        "# 🔹 Dicionário para armazenar resultados\n",
        "results = {}\n",
        "\n",
        "# 🔹 Treinar e avaliar cada modelo\n",
        "for name, model in models.items():\n",
        "    model.fit(X_train_scaled, y_train)\n",
        "    y_pred = model.predict(X_test_scaled)\n",
        "\n",
        "    # Calcular métricas\n",
        "    rmse = np.sqrt(mean_squared_error(y_test, y_pred))\n",
        "    r2 = r2_score(y_test, y_pred)\n",
        "\n",
        "    # Armazenar resultados\n",
        "    results[name] = {'RMSE': rmse, 'R²': r2}\n",
        "\n",
        "    # Exibir resultados individuais\n",
        "    print(\"=\"*50)\n",
        "    print(f\"Modelo: {name}\")\n",
        "    print(f\"➡️ RMSE: {rmse:.2f}\")\n",
        "    print(f\"➡️ R²: {r2:.3f}\")\n",
        "\n",
        "# 🔹 Comparativo final dos modelos\n",
        "results_df = pd.DataFrame(results).T\n",
        "print(\"\\n📊 Comparativo de Desempenho:\")\n",
        "display(results_df)\n",
        "\n"
      ],
      "metadata": {
        "colab": {
          "base_uri": "https://localhost:8080/",
          "height": 394
        },
        "id": "vwuonIp_nqKz",
        "outputId": "98696b20-d927-4751-e2f7-42136834232e"
      },
      "execution_count": null,
      "outputs": [
        {
          "output_type": "stream",
          "name": "stdout",
          "text": [
            "==================================================\n",
            "Modelo: Regressão Linear\n",
            "➡️ RMSE: 411.71\n",
            "➡️ R²: 0.901\n",
            "==================================================\n",
            "Modelo: Árvore de Regressão\n",
            "➡️ RMSE: 538.79\n",
            "➡️ R²: 0.830\n",
            "==================================================\n",
            "Modelo: Random Forest\n",
            "➡️ RMSE: 412.82\n",
            "➡️ R²: 0.900\n",
            "\n",
            "📊 Comparativo de Desempenho:\n"
          ]
        },
        {
          "output_type": "display_data",
          "data": {
            "text/plain": [
              "                           RMSE        R²\n",
              "Regressão Linear     411.710022  0.900660\n",
              "Árvore de Regressão  538.790375  0.829870\n",
              "Random Forest        412.822145  0.900123"
            ],
            "text/html": [
              "\n",
              "  <div id=\"df-a7f8b64d-f734-4171-bf22-42130290ec11\" class=\"colab-df-container\">\n",
              "    <div>\n",
              "<style scoped>\n",
              "    .dataframe tbody tr th:only-of-type {\n",
              "        vertical-align: middle;\n",
              "    }\n",
              "\n",
              "    .dataframe tbody tr th {\n",
              "        vertical-align: top;\n",
              "    }\n",
              "\n",
              "    .dataframe thead th {\n",
              "        text-align: right;\n",
              "    }\n",
              "</style>\n",
              "<table border=\"1\" class=\"dataframe\">\n",
              "  <thead>\n",
              "    <tr style=\"text-align: right;\">\n",
              "      <th></th>\n",
              "      <th>RMSE</th>\n",
              "      <th>R²</th>\n",
              "    </tr>\n",
              "  </thead>\n",
              "  <tbody>\n",
              "    <tr>\n",
              "      <th>Regressão Linear</th>\n",
              "      <td>411.710022</td>\n",
              "      <td>0.900660</td>\n",
              "    </tr>\n",
              "    <tr>\n",
              "      <th>Árvore de Regressão</th>\n",
              "      <td>538.790375</td>\n",
              "      <td>0.829870</td>\n",
              "    </tr>\n",
              "    <tr>\n",
              "      <th>Random Forest</th>\n",
              "      <td>412.822145</td>\n",
              "      <td>0.900123</td>\n",
              "    </tr>\n",
              "  </tbody>\n",
              "</table>\n",
              "</div>\n",
              "    <div class=\"colab-df-buttons\">\n",
              "\n",
              "  <div class=\"colab-df-container\">\n",
              "    <button class=\"colab-df-convert\" onclick=\"convertToInteractive('df-a7f8b64d-f734-4171-bf22-42130290ec11')\"\n",
              "            title=\"Convert this dataframe to an interactive table.\"\n",
              "            style=\"display:none;\">\n",
              "\n",
              "  <svg xmlns=\"http://www.w3.org/2000/svg\" height=\"24px\" viewBox=\"0 -960 960 960\">\n",
              "    <path d=\"M120-120v-720h720v720H120Zm60-500h600v-160H180v160Zm220 220h160v-160H400v160Zm0 220h160v-160H400v160ZM180-400h160v-160H180v160Zm440 0h160v-160H620v160ZM180-180h160v-160H180v160Zm440 0h160v-160H620v160Z\"/>\n",
              "  </svg>\n",
              "    </button>\n",
              "\n",
              "  <style>\n",
              "    .colab-df-container {\n",
              "      display:flex;\n",
              "      gap: 12px;\n",
              "    }\n",
              "\n",
              "    .colab-df-convert {\n",
              "      background-color: #E8F0FE;\n",
              "      border: none;\n",
              "      border-radius: 50%;\n",
              "      cursor: pointer;\n",
              "      display: none;\n",
              "      fill: #1967D2;\n",
              "      height: 32px;\n",
              "      padding: 0 0 0 0;\n",
              "      width: 32px;\n",
              "    }\n",
              "\n",
              "    .colab-df-convert:hover {\n",
              "      background-color: #E2EBFA;\n",
              "      box-shadow: 0px 1px 2px rgba(60, 64, 67, 0.3), 0px 1px 3px 1px rgba(60, 64, 67, 0.15);\n",
              "      fill: #174EA6;\n",
              "    }\n",
              "\n",
              "    .colab-df-buttons div {\n",
              "      margin-bottom: 4px;\n",
              "    }\n",
              "\n",
              "    [theme=dark] .colab-df-convert {\n",
              "      background-color: #3B4455;\n",
              "      fill: #D2E3FC;\n",
              "    }\n",
              "\n",
              "    [theme=dark] .colab-df-convert:hover {\n",
              "      background-color: #434B5C;\n",
              "      box-shadow: 0px 1px 3px 1px rgba(0, 0, 0, 0.15);\n",
              "      filter: drop-shadow(0px 1px 2px rgba(0, 0, 0, 0.3));\n",
              "      fill: #FFFFFF;\n",
              "    }\n",
              "  </style>\n",
              "\n",
              "    <script>\n",
              "      const buttonEl =\n",
              "        document.querySelector('#df-a7f8b64d-f734-4171-bf22-42130290ec11 button.colab-df-convert');\n",
              "      buttonEl.style.display =\n",
              "        google.colab.kernel.accessAllowed ? 'block' : 'none';\n",
              "\n",
              "      async function convertToInteractive(key) {\n",
              "        const element = document.querySelector('#df-a7f8b64d-f734-4171-bf22-42130290ec11');\n",
              "        const dataTable =\n",
              "          await google.colab.kernel.invokeFunction('convertToInteractive',\n",
              "                                                    [key], {});\n",
              "        if (!dataTable) return;\n",
              "\n",
              "        const docLinkHtml = 'Like what you see? Visit the ' +\n",
              "          '<a target=\"_blank\" href=https://colab.research.google.com/notebooks/data_table.ipynb>data table notebook</a>'\n",
              "          + ' to learn more about interactive tables.';\n",
              "        element.innerHTML = '';\n",
              "        dataTable['output_type'] = 'display_data';\n",
              "        await google.colab.output.renderOutput(dataTable, element);\n",
              "        const docLink = document.createElement('div');\n",
              "        docLink.innerHTML = docLinkHtml;\n",
              "        element.appendChild(docLink);\n",
              "      }\n",
              "    </script>\n",
              "  </div>\n",
              "\n",
              "\n",
              "    <div id=\"df-4e2cc1c3-40c3-436b-962c-ac022f3358a3\">\n",
              "      <button class=\"colab-df-quickchart\" onclick=\"quickchart('df-4e2cc1c3-40c3-436b-962c-ac022f3358a3')\"\n",
              "                title=\"Suggest charts\"\n",
              "                style=\"display:none;\">\n",
              "\n",
              "<svg xmlns=\"http://www.w3.org/2000/svg\" height=\"24px\"viewBox=\"0 0 24 24\"\n",
              "     width=\"24px\">\n",
              "    <g>\n",
              "        <path d=\"M19 3H5c-1.1 0-2 .9-2 2v14c0 1.1.9 2 2 2h14c1.1 0 2-.9 2-2V5c0-1.1-.9-2-2-2zM9 17H7v-7h2v7zm4 0h-2V7h2v10zm4 0h-2v-4h2v4z\"/>\n",
              "    </g>\n",
              "</svg>\n",
              "      </button>\n",
              "\n",
              "<style>\n",
              "  .colab-df-quickchart {\n",
              "      --bg-color: #E8F0FE;\n",
              "      --fill-color: #1967D2;\n",
              "      --hover-bg-color: #E2EBFA;\n",
              "      --hover-fill-color: #174EA6;\n",
              "      --disabled-fill-color: #AAA;\n",
              "      --disabled-bg-color: #DDD;\n",
              "  }\n",
              "\n",
              "  [theme=dark] .colab-df-quickchart {\n",
              "      --bg-color: #3B4455;\n",
              "      --fill-color: #D2E3FC;\n",
              "      --hover-bg-color: #434B5C;\n",
              "      --hover-fill-color: #FFFFFF;\n",
              "      --disabled-bg-color: #3B4455;\n",
              "      --disabled-fill-color: #666;\n",
              "  }\n",
              "\n",
              "  .colab-df-quickchart {\n",
              "    background-color: var(--bg-color);\n",
              "    border: none;\n",
              "    border-radius: 50%;\n",
              "    cursor: pointer;\n",
              "    display: none;\n",
              "    fill: var(--fill-color);\n",
              "    height: 32px;\n",
              "    padding: 0;\n",
              "    width: 32px;\n",
              "  }\n",
              "\n",
              "  .colab-df-quickchart:hover {\n",
              "    background-color: var(--hover-bg-color);\n",
              "    box-shadow: 0 1px 2px rgba(60, 64, 67, 0.3), 0 1px 3px 1px rgba(60, 64, 67, 0.15);\n",
              "    fill: var(--button-hover-fill-color);\n",
              "  }\n",
              "\n",
              "  .colab-df-quickchart-complete:disabled,\n",
              "  .colab-df-quickchart-complete:disabled:hover {\n",
              "    background-color: var(--disabled-bg-color);\n",
              "    fill: var(--disabled-fill-color);\n",
              "    box-shadow: none;\n",
              "  }\n",
              "\n",
              "  .colab-df-spinner {\n",
              "    border: 2px solid var(--fill-color);\n",
              "    border-color: transparent;\n",
              "    border-bottom-color: var(--fill-color);\n",
              "    animation:\n",
              "      spin 1s steps(1) infinite;\n",
              "  }\n",
              "\n",
              "  @keyframes spin {\n",
              "    0% {\n",
              "      border-color: transparent;\n",
              "      border-bottom-color: var(--fill-color);\n",
              "      border-left-color: var(--fill-color);\n",
              "    }\n",
              "    20% {\n",
              "      border-color: transparent;\n",
              "      border-left-color: var(--fill-color);\n",
              "      border-top-color: var(--fill-color);\n",
              "    }\n",
              "    30% {\n",
              "      border-color: transparent;\n",
              "      border-left-color: var(--fill-color);\n",
              "      border-top-color: var(--fill-color);\n",
              "      border-right-color: var(--fill-color);\n",
              "    }\n",
              "    40% {\n",
              "      border-color: transparent;\n",
              "      border-right-color: var(--fill-color);\n",
              "      border-top-color: var(--fill-color);\n",
              "    }\n",
              "    60% {\n",
              "      border-color: transparent;\n",
              "      border-right-color: var(--fill-color);\n",
              "    }\n",
              "    80% {\n",
              "      border-color: transparent;\n",
              "      border-right-color: var(--fill-color);\n",
              "      border-bottom-color: var(--fill-color);\n",
              "    }\n",
              "    90% {\n",
              "      border-color: transparent;\n",
              "      border-bottom-color: var(--fill-color);\n",
              "    }\n",
              "  }\n",
              "</style>\n",
              "\n",
              "      <script>\n",
              "        async function quickchart(key) {\n",
              "          const quickchartButtonEl =\n",
              "            document.querySelector('#' + key + ' button');\n",
              "          quickchartButtonEl.disabled = true;  // To prevent multiple clicks.\n",
              "          quickchartButtonEl.classList.add('colab-df-spinner');\n",
              "          try {\n",
              "            const charts = await google.colab.kernel.invokeFunction(\n",
              "                'suggestCharts', [key], {});\n",
              "          } catch (error) {\n",
              "            console.error('Error during call to suggestCharts:', error);\n",
              "          }\n",
              "          quickchartButtonEl.classList.remove('colab-df-spinner');\n",
              "          quickchartButtonEl.classList.add('colab-df-quickchart-complete');\n",
              "        }\n",
              "        (() => {\n",
              "          let quickchartButtonEl =\n",
              "            document.querySelector('#df-4e2cc1c3-40c3-436b-962c-ac022f3358a3 button');\n",
              "          quickchartButtonEl.style.display =\n",
              "            google.colab.kernel.accessAllowed ? 'block' : 'none';\n",
              "        })();\n",
              "      </script>\n",
              "    </div>\n",
              "\n",
              "  <div id=\"id_d3a64511-c373-492b-a64f-8fb1827f45fc\">\n",
              "    <style>\n",
              "      .colab-df-generate {\n",
              "        background-color: #E8F0FE;\n",
              "        border: none;\n",
              "        border-radius: 50%;\n",
              "        cursor: pointer;\n",
              "        display: none;\n",
              "        fill: #1967D2;\n",
              "        height: 32px;\n",
              "        padding: 0 0 0 0;\n",
              "        width: 32px;\n",
              "      }\n",
              "\n",
              "      .colab-df-generate:hover {\n",
              "        background-color: #E2EBFA;\n",
              "        box-shadow: 0px 1px 2px rgba(60, 64, 67, 0.3), 0px 1px 3px 1px rgba(60, 64, 67, 0.15);\n",
              "        fill: #174EA6;\n",
              "      }\n",
              "\n",
              "      [theme=dark] .colab-df-generate {\n",
              "        background-color: #3B4455;\n",
              "        fill: #D2E3FC;\n",
              "      }\n",
              "\n",
              "      [theme=dark] .colab-df-generate:hover {\n",
              "        background-color: #434B5C;\n",
              "        box-shadow: 0px 1px 3px 1px rgba(0, 0, 0, 0.15);\n",
              "        filter: drop-shadow(0px 1px 2px rgba(0, 0, 0, 0.3));\n",
              "        fill: #FFFFFF;\n",
              "      }\n",
              "    </style>\n",
              "    <button class=\"colab-df-generate\" onclick=\"generateWithVariable('results_df')\"\n",
              "            title=\"Generate code using this dataframe.\"\n",
              "            style=\"display:none;\">\n",
              "\n",
              "  <svg xmlns=\"http://www.w3.org/2000/svg\" height=\"24px\"viewBox=\"0 0 24 24\"\n",
              "       width=\"24px\">\n",
              "    <path d=\"M7,19H8.4L18.45,9,17,7.55,7,17.6ZM5,21V16.75L18.45,3.32a2,2,0,0,1,2.83,0l1.4,1.43a1.91,1.91,0,0,1,.58,1.4,1.91,1.91,0,0,1-.58,1.4L9.25,21ZM18.45,9,17,7.55Zm-12,3A5.31,5.31,0,0,0,4.9,8.1,5.31,5.31,0,0,0,1,6.5,5.31,5.31,0,0,0,4.9,4.9,5.31,5.31,0,0,0,6.5,1,5.31,5.31,0,0,0,8.1,4.9,5.31,5.31,0,0,0,12,6.5,5.46,5.46,0,0,0,6.5,12Z\"/>\n",
              "  </svg>\n",
              "    </button>\n",
              "    <script>\n",
              "      (() => {\n",
              "      const buttonEl =\n",
              "        document.querySelector('#id_d3a64511-c373-492b-a64f-8fb1827f45fc button.colab-df-generate');\n",
              "      buttonEl.style.display =\n",
              "        google.colab.kernel.accessAllowed ? 'block' : 'none';\n",
              "\n",
              "      buttonEl.onclick = () => {\n",
              "        google.colab.notebook.generateWithVariable('results_df');\n",
              "      }\n",
              "      })();\n",
              "    </script>\n",
              "  </div>\n",
              "\n",
              "    </div>\n",
              "  </div>\n"
            ],
            "application/vnd.google.colaboratory.intrinsic+json": {
              "type": "dataframe",
              "variable_name": "results_df",
              "summary": "{\n  \"name\": \"results_df\",\n  \"rows\": 3,\n  \"fields\": [\n    {\n      \"column\": \"RMSE\",\n      \"properties\": {\n        \"dtype\": \"number\",\n        \"std\": 73.05095003257044,\n        \"min\": 411.7100216966853,\n        \"max\": 538.7903745745243,\n        \"num_unique_values\": 3,\n        \"samples\": [\n          411.7100216966853,\n          538.7903745745243,\n          412.8221448557191\n        ],\n        \"semantic_type\": \"\",\n        \"description\": \"\"\n      }\n    },\n    {\n      \"column\": \"R\\u00b2\",\n      \"properties\": {\n        \"dtype\": \"number\",\n        \"std\": 0.04071641522783535,\n        \"min\": 0.8298698576314649,\n        \"max\": 0.9006599245385882,\n        \"num_unique_values\": 3,\n        \"samples\": [\n          0.9006599245385882,\n          0.8298698576314649,\n          0.9001225190519474\n        ],\n        \"semantic_type\": \"\",\n        \"description\": \"\"\n      }\n    }\n  ]\n}"
            }
          },
          "metadata": {}
        }
      ]
    }
  ]
}